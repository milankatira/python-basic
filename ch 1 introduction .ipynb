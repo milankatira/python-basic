{
 "cells": [
  {
   "cell_type": "markdown",
   "id": "711566b3",
   "metadata": {},
   "source": [
    "# <span style='color:green'>ch-1 introduction</span>"
   ]
  },
  {
   "cell_type": "code",
   "execution_count": 1,
   "id": "e3544f65",
   "metadata": {},
   "outputs": [
    {
     "data": {
      "text/plain": [
       "'3.8.8 (default, Apr 13 2021, 15:08:03) [MSC v.1916 64 bit (AMD64)]'"
      ]
     },
     "execution_count": 1,
     "metadata": {},
     "output_type": "execute_result"
    }
   ],
   "source": [
    "import sys  #check version in jupyter notebook\n",
    "sys.version"
   ]
  },
  {
   "cell_type": "code",
   "execution_count": 2,
   "id": "d2ade155",
   "metadata": {},
   "outputs": [],
   "source": [
    "#python --version (check version in terminal)"
   ]
  },
  {
   "cell_type": "raw",
   "id": "f085fa4f",
   "metadata": {},
   "source": [
    "installing python \n",
    "-fisrt you need to insure that whether python installed on your system or not \n",
    "\n",
    "for check installation \n",
    "-open command prompt (by searching cmd in your system)\n",
    "-open windows powershell (by  holding down the shift key while right clicking on your desktop and selecting)\n",
    "\n",
    "download python\n",
    "-if python is not installed then for download a python go to https://www.python.org/downloads/. "
   ]
  },
  {
   "cell_type": "markdown",
   "id": "54fe4d2d",
   "metadata": {},
   "source": [
    "download python\n",
    "-if python is not installed then for download a python go to https://www.python.org/downloads/. "
   ]
  },
  {
   "cell_type": "markdown",
   "id": "dfb292fb",
   "metadata": {},
   "source": [
    "## printing in python "
   ]
  },
  {
   "cell_type": "code",
   "execution_count": 3,
   "id": "9eeb2209",
   "metadata": {},
   "outputs": [
    {
     "name": "stdout",
     "output_type": "stream",
     "text": [
      "hello world\n"
     ]
    }
   ],
   "source": [
    "print(\"hello world\") #for printing hello world in python 3\n",
    "#print \"hello world\"  for printing"
   ]
  },
  {
   "cell_type": "markdown",
   "id": "8bc9181c",
   "metadata": {},
   "source": [
    "## pip "
   ]
  },
  {
   "cell_type": "raw",
   "id": "134ae2f4",
   "metadata": {},
   "source": [
    "pip\n",
    "-pip is the packager for python you can use pip to install a module on your system  "
   ]
  },
  {
   "cell_type": "code",
   "execution_count": 4,
   "id": "15cd803e",
   "metadata": {},
   "outputs": [
    {
     "name": "stdout",
     "output_type": "stream",
     "text": [
      "Note: you may need to restart the kernel to use updated packages.\n"
     ]
    },
    {
     "name": "stderr",
     "output_type": "stream",
     "text": [
      "ERROR: Invalid requirement: '#for'\n"
     ]
    }
   ],
   "source": [
    "pip install flask  #for install flask module in python "
   ]
  },
  {
   "cell_type": "markdown",
   "id": "11e74c1f",
   "metadata": {},
   "source": [
    "## module "
   ]
  },
  {
   "cell_type": "raw",
   "id": "e99a2395",
   "metadata": {},
   "source": [
    "module\n",
    "-a module is a file containing code written by somebody else which can imported and used in our programme  "
   ]
  },
  {
   "cell_type": "raw",
   "id": "42b2723a",
   "metadata": {},
   "source": [
    "types of module \n",
    "\n",
    "1.built in module  -pre installed in python \n",
    "2.external module  -need to install in python \n",
    "\n",
    "example\n",
    "1.built in module -os\n",
    "2.external module -flask"
   ]
  },
  {
   "cell_type": "markdown",
   "id": "3673e5ce",
   "metadata": {},
   "source": [
    "## comment "
   ]
  },
  {
   "cell_type": "raw",
   "id": "b178961d",
   "metadata": {},
   "source": [
    "there are two types of comments in python \n",
    "\n",
    "1.single line comment  -write using #\n",
    "1.multi line comment   -write using '''comment'''\n",
    "\n",
    "example \n",
    "1.#this is a single line comment \n",
    "2.'''this is \n",
    "a multiline\n",
    "comment'''"
   ]
  },
  {
   "cell_type": "markdown",
   "id": "48eb8f2f",
   "metadata": {},
   "source": [
    "## variable and datatypes"
   ]
  },
  {
   "cell_type": "raw",
   "id": "45c163c1",
   "metadata": {},
   "source": [
    "variable \n",
    "-variable is a name given to a memory location in a python \n",
    "\n",
    "python is wonderfull language that automatically identifys the type of data for us \n",
    "\n",
    "data type in python \n",
    "-primary there are following data types in python \n",
    "\n",
    "1.integer\n",
    "2.float\n",
    "3.string\n",
    "4.boolean \n",
    "5.none\n",
    "\n",
    "Rule to define a variable name\n",
    "\n",
    "1.it can contain alphabets,digit and undercores\n",
    "2.only start with alphabets \n",
    "3.it can't start with digit \n",
    "4.no white space allow inside a variable \n",
    "\n",
    "example\n",
    "python,forty_7,_seven"
   ]
  },
  {
   "cell_type": "code",
   "execution_count": 5,
   "id": "c25d5028",
   "metadata": {},
   "outputs": [
    {
     "name": "stdout",
     "output_type": "stream",
     "text": [
      "python\n",
      "345\n",
      "45.32\n",
      "<class 'str'>\n",
      "<class 'int'>\n",
      "<class 'float'>\n"
     ]
    }
   ],
   "source": [
    "a=\"python\"   #string data type \n",
    "b=345        #integer data type\n",
    "c=45.32      #floating data type  \n",
    "print(a)\n",
    "print(b)\n",
    "print(c)\n",
    "\n",
    "\n",
    "print(type(a))  #for check data type of variable a\n",
    "print(type(b))  #for check data type of variable b\n",
    "print(type(c))  #for check data type of variable c"
   ]
  },
  {
   "cell_type": "raw",
   "id": "31f52f69",
   "metadata": {},
   "source": [
    "operators in python \n",
    "\n",
    "following are common operators in python \n",
    "\n",
    "1.Arithmatic operators  - +,-,*,/\n",
    "2.Assignment operators  - =,+=,-=\n",
    "3.Comparison operators  - ==,>=,!=\n",
    "4.Logical operators     - and,or,not\n",
    "\n"
   ]
  },
  {
   "cell_type": "code",
   "execution_count": 6,
   "id": "1594ffb1",
   "metadata": {},
   "outputs": [
    {
     "name": "stdout",
     "output_type": "stream",
     "text": [
      "The value of 3+4 is  7\n",
      "The value of 3-4 is  -1\n",
      "The value of 3*4 is  12\n",
      "The value of 3/4 is  0.75\n",
      "22.0\n",
      "True\n",
      "The value of bool1 and bool2 is False\n",
      "The value of bool1 or bool2 is True\n",
      "The value of not bool2 is True\n"
     ]
    }
   ],
   "source": [
    "a = 3\n",
    "b = 4\n",
    "\n",
    "# Arithmetic Operators\n",
    "print(\"The value of 3+4 is \", 3+4)\n",
    "print(\"The value of 3-4 is \", 3-4)\n",
    "print(\"The value of 3*4 is \", 3*4)\n",
    "print(\"The value of 3/4 is \", 3/4)\n",
    "\n",
    "# Assignment Operators\n",
    "a = 34\n",
    "a -= 12\n",
    "a *= 12\n",
    "a /= 12\n",
    "print(a)\n",
    "\n",
    "# Comparison Operators\n",
    "b = (14<=7)\n",
    "b = (14>=7)\n",
    "b = (14<7)\n",
    "b = (14>7)\n",
    "b = (14==7)\n",
    "b = (14!=7)\n",
    "print(b)\n",
    "\n",
    "# Logical Operators\n",
    "bool1 = True\n",
    "bool2 = False\n",
    "print(\"The value of bool1 and bool2 is\", (bool1 and bool2))\n",
    "print(\"The value of bool1 or bool2 is\", (bool1 or bool2))\n",
    "print(\"The value of not bool2 is\", (not bool2))"
   ]
  }
 ],
 "metadata": {
  "kernelspec": {
   "display_name": "Python 3",
   "language": "python",
   "name": "python3"
  },
  "language_info": {
   "codemirror_mode": {
    "name": "ipython",
    "version": 3
   },
   "file_extension": ".py",
   "mimetype": "text/x-python",
   "name": "python",
   "nbconvert_exporter": "python",
   "pygments_lexer": "ipython3",
   "version": "3.8.8"
  }
 },
 "nbformat": 4,
 "nbformat_minor": 5
}
