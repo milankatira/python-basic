{
 "cells": [
  {
   "cell_type": "markdown",
   "id": "6e269f73",
   "metadata": {},
   "source": [
    "## loops in python "
   ]
  },
  {
   "cell_type": "markdown",
   "id": "9a1f4537",
   "metadata": {},
   "source": [
    "`sometime we want to repeat a set of statements in our program for instance loops make it easy for a programmer`\n",
    "for ex print 1 to 100"
   ]
  },
  {
   "cell_type": "raw",
   "id": "99fccf9a",
   "metadata": {},
   "source": [
    "types of loop \n",
    "primarily there are two types of loops in python\n",
    "\n",
    "1.while loop\n",
    "2.for loop"
   ]
  },
  {
   "cell_type": "markdown",
   "id": "f4822d8c",
   "metadata": {},
   "source": [
    "## while loop"
   ]
  },
  {
   "cell_type": "code",
   "execution_count": 1,
   "id": "0625286e",
   "metadata": {},
   "outputs": [
    {
     "name": "stdout",
     "output_type": "stream",
     "text": [
      "1\n",
      "2\n",
      "3\n",
      "4\n",
      "5\n"
     ]
    }
   ],
   "source": [
    "#Print i as long as i is less than 6:\n",
    "i = 1\n",
    "while i < 6:\n",
    "    print(i)\n",
    "    i += 1"
   ]
  },
  {
   "cell_type": "markdown",
   "id": "0e1437ff",
   "metadata": {},
   "source": [
    "#### The break Statement"
   ]
  },
  {
   "cell_type": "markdown",
   "id": "dfdf20b2",
   "metadata": {},
   "source": [
    "With the break statement we can stop the loop even if the while condition is true:"
   ]
  },
  {
   "cell_type": "code",
   "execution_count": 2,
   "id": "87b67ddf",
   "metadata": {},
   "outputs": [
    {
     "name": "stdout",
     "output_type": "stream",
     "text": [
      "1\n",
      "2\n",
      "3\n"
     ]
    }
   ],
   "source": [
    "i = 1\n",
    "while i < 6:\n",
    "    print(i)\n",
    "    if i == 3:\n",
    "        break\n",
    "    i += 1"
   ]
  },
  {
   "cell_type": "markdown",
   "id": "c202b025",
   "metadata": {},
   "source": [
    "#### The continue Statement"
   ]
  },
  {
   "cell_type": "markdown",
   "id": "c170fff3",
   "metadata": {},
   "source": [
    "With the continue statement we can stop the current iteration, and continue with the next:"
   ]
  },
  {
   "cell_type": "code",
   "execution_count": 4,
   "id": "7a5cf8ce",
   "metadata": {},
   "outputs": [
    {
     "name": "stdout",
     "output_type": "stream",
     "text": [
      "1\n",
      "2\n",
      "4\n",
      "5\n",
      "6\n"
     ]
    }
   ],
   "source": [
    "i = 0\n",
    "while i < 6:\n",
    "    i += 1\n",
    "    if i == 3:\n",
    "        continue\n",
    "    print(i)"
   ]
  },
  {
   "cell_type": "markdown",
   "id": "79a79a87",
   "metadata": {},
   "source": [
    "## for loop"
   ]
  },
  {
   "cell_type": "raw",
   "id": "e302c359",
   "metadata": {},
   "source": [
    "-A for loop is used for iterating over a sequence (that is either a list, a tuple, a dictionary, a set, or a string).\n",
    "\n",
    "-This is less like the for keyword in other programming languages, and works more like an iterator method as found in other object-orientated programming languages.\n",
    "\n",
    "-With the for loop we can execute a set of statements, once for each item in a list, tuple, set etc."
   ]
  },
  {
   "cell_type": "markdown",
   "id": "55efa750",
   "metadata": {},
   "source": [
    "`Print each fruit in a fruit list:`"
   ]
  },
  {
   "cell_type": "code",
   "execution_count": 5,
   "id": "d02c82de",
   "metadata": {},
   "outputs": [
    {
     "name": "stdout",
     "output_type": "stream",
     "text": [
      "apple\n",
      "banana\n",
      "cherry\n"
     ]
    }
   ],
   "source": [
    "fruits = [\"apple\", \"banana\", \"cherry\"]\n",
    "for x in fruits:\n",
    "    print(x)"
   ]
  },
  {
   "cell_type": "markdown",
   "id": "0c4bb826",
   "metadata": {},
   "source": [
    "`Loop through the letters in the word \"banana\":`"
   ]
  },
  {
   "cell_type": "code",
   "execution_count": 6,
   "id": "3eaf6b22",
   "metadata": {},
   "outputs": [
    {
     "name": "stdout",
     "output_type": "stream",
     "text": [
      "b\n",
      "a\n",
      "n\n",
      "a\n",
      "n\n",
      "a\n"
     ]
    }
   ],
   "source": [
    "for x in \"banana\":\n",
    "    print(x)"
   ]
  },
  {
   "cell_type": "markdown",
   "id": "b3321ea4",
   "metadata": {},
   "source": [
    "## The range() Function"
   ]
  },
  {
   "cell_type": "raw",
   "id": "30a3cd3d",
   "metadata": {},
   "source": [
    "To loop through a set of code a specified number of times, we can use the range() function,\n",
    "The range() function returns a sequence of numbers, starting from 0 by default, and increments by 1 (by default), and ends at a specified number."
   ]
  },
  {
   "cell_type": "code",
   "execution_count": 7,
   "id": "c9d7c80b",
   "metadata": {},
   "outputs": [
    {
     "name": "stdout",
     "output_type": "stream",
     "text": [
      "0\n",
      "1\n",
      "2\n",
      "3\n",
      "4\n",
      "5\n"
     ]
    }
   ],
   "source": [
    "for x in range(6):\n",
    "    print(x)"
   ]
  },
  {
   "cell_type": "markdown",
   "id": "a8616f64",
   "metadata": {},
   "source": [
    "`Using the start parameter:`"
   ]
  },
  {
   "cell_type": "code",
   "execution_count": 8,
   "id": "28b7369d",
   "metadata": {},
   "outputs": [
    {
     "name": "stdout",
     "output_type": "stream",
     "text": [
      "2\n",
      "3\n",
      "4\n",
      "5\n"
     ]
    }
   ],
   "source": [
    "for x in range(2, 6):\n",
    "    print(x)"
   ]
  },
  {
   "cell_type": "markdown",
   "id": "aeed1dc9",
   "metadata": {},
   "source": [
    "`Increment the sequence with 3 (default is 1):`"
   ]
  },
  {
   "cell_type": "code",
   "execution_count": 9,
   "id": "61bea254",
   "metadata": {},
   "outputs": [
    {
     "name": "stdout",
     "output_type": "stream",
     "text": [
      "2\n",
      "5\n",
      "8\n",
      "11\n",
      "14\n",
      "17\n",
      "20\n",
      "23\n",
      "26\n",
      "29\n"
     ]
    }
   ],
   "source": [
    "for x in range(2, 30, 3):\n",
    "    print(x)"
   ]
  },
  {
   "cell_type": "markdown",
   "id": "088e5d51",
   "metadata": {},
   "source": [
    "### Nested Loops"
   ]
  },
  {
   "cell_type": "markdown",
   "id": "bd40f6b8",
   "metadata": {},
   "source": [
    "A nested loop is a loop inside a loop.\n",
    "\n",
    "The \"inner loop\" will be executed one time for each iteration of the \"outer loop\":"
   ]
  },
  {
   "cell_type": "code",
   "execution_count": 10,
   "id": "8db83a3b",
   "metadata": {},
   "outputs": [
    {
     "name": "stdout",
     "output_type": "stream",
     "text": [
      "red apple\n",
      "red banana\n",
      "red cherry\n",
      "big apple\n",
      "big banana\n",
      "big cherry\n",
      "tasty apple\n",
      "tasty banana\n",
      "tasty cherry\n"
     ]
    }
   ],
   "source": [
    "adj = [\"red\", \"big\", \"tasty\"]\n",
    "fruits = [\"apple\", \"banana\", \"cherry\"]\n",
    "\n",
    "for x in adj:\n",
    "    for y in fruits:\n",
    "        print(x, y)"
   ]
  },
  {
   "cell_type": "markdown",
   "id": "e68121d0",
   "metadata": {},
   "source": [
    "### The pass Statement"
   ]
  },
  {
   "cell_type": "markdown",
   "id": "76ee952f",
   "metadata": {},
   "source": [
    "`for loops cannot be empty`, but if you for some reason have a for loop with no content, put in the pass statement to avoid getting an error.\n",
    "\n"
   ]
  },
  {
   "cell_type": "code",
   "execution_count": 11,
   "id": "5e77a506",
   "metadata": {},
   "outputs": [],
   "source": [
    "for x in [0, 1, 2]:\n",
    "    pass"
   ]
  }
 ],
 "metadata": {
  "kernelspec": {
   "display_name": "Python 3",
   "language": "python",
   "name": "python3"
  },
  "language_info": {
   "codemirror_mode": {
    "name": "ipython",
    "version": 3
   },
   "file_extension": ".py",
   "mimetype": "text/x-python",
   "name": "python",
   "nbconvert_exporter": "python",
   "pygments_lexer": "ipython3",
   "version": "3.8.8"
  }
 },
 "nbformat": 4,
 "nbformat_minor": 5
}
