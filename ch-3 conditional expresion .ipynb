{
 "cells": [
  {
   "cell_type": "markdown",
   "id": "6f61e51d",
   "metadata": {},
   "source": [
    "# conditional expression"
   ]
  },
  {
   "cell_type": "markdown",
   "id": "f47cf745",
   "metadata": {},
   "source": [
    "`some decision which is depend on condition bring met`"
   ]
  },
  {
   "cell_type": "markdown",
   "id": "82001c02",
   "metadata": {},
   "source": [
    "## if else and elif in python"
   ]
  },
  {
   "cell_type": "markdown",
   "id": "1651bf86",
   "metadata": {},
   "source": [
    "<img src=\"if.png\">"
   ]
  },
  {
   "cell_type": "code",
   "execution_count": 2,
   "id": "10c1b983",
   "metadata": {},
   "outputs": [
    {
     "name": "stdout",
     "output_type": "stream",
     "text": [
      "b is greater than a\n",
      "b is greater than b\n"
     ]
    }
   ],
   "source": [
    "a = 33\n",
    "b = 200\n",
    "if b > a:\n",
    "    print(\"b is greater than a\")   #if condition true return this \n",
    "    \n",
    "if a > b:\n",
    "    print(\"a is greater than b\")   #if condition true return this \n",
    "\n",
    "elif a == b:\n",
    "    print(\"a is equal to b\")       #if condition true return this \n",
    "    \n",
    "else:\n",
    "    print(\"b is greater than b\")   #otherwise return this"
   ]
  }
 ],
 "metadata": {
  "kernelspec": {
   "display_name": "Python 3",
   "language": "python",
   "name": "python3"
  },
  "language_info": {
   "codemirror_mode": {
    "name": "ipython",
    "version": 3
   },
   "file_extension": ".py",
   "mimetype": "text/x-python",
   "name": "python",
   "nbconvert_exporter": "python",
   "pygments_lexer": "ipython3",
   "version": "3.8.8"
  }
 },
 "nbformat": 4,
 "nbformat_minor": 5
}
