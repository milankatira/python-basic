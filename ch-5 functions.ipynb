{
 "cells": [
  {
   "cell_type": "markdown",
   "id": "8f718bb2",
   "metadata": {},
   "source": [
    "# function in python"
   ]
  },
  {
   "cell_type": "raw",
   "id": "4d8436c1",
   "metadata": {},
   "source": [
    "A function is a block of code which only runs when it is called.\n",
    "\n",
    "You can pass data, known as parameters, into a function.\n",
    "\n",
    "A function can return data as a result."
   ]
  },
  {
   "cell_type": "markdown",
   "id": "24c4a0c4",
   "metadata": {},
   "source": [
    "#### creating a function"
   ]
  },
  {
   "cell_type": "markdown",
   "id": "782252ee",
   "metadata": {},
   "source": [
    "In Python a function is defined using the `def` keyword:"
   ]
  },
  {
   "cell_type": "code",
   "execution_count": 1,
   "id": "adec9e31",
   "metadata": {},
   "outputs": [],
   "source": [
    "def my_function():\n",
    "    print(\"Hello from a function\")"
   ]
  },
  {
   "cell_type": "markdown",
   "id": "03fd15f7",
   "metadata": {},
   "source": [
    "#### Calling a Function"
   ]
  },
  {
   "cell_type": "markdown",
   "id": "6daede81",
   "metadata": {},
   "source": [
    "To call a function, use the function name followed by `parenthesis`:"
   ]
  },
  {
   "cell_type": "code",
   "execution_count": 2,
   "id": "e1e8e016",
   "metadata": {},
   "outputs": [
    {
     "name": "stdout",
     "output_type": "stream",
     "text": [
      "Hello from a function\n"
     ]
    }
   ],
   "source": [
    "def my_function():\n",
    "    print(\"Hello from a function\")\n",
    "\n",
    "my_function()"
   ]
  },
  {
   "cell_type": "markdown",
   "id": "9a52a0ec",
   "metadata": {},
   "source": [
    "#### arguments"
   ]
  },
  {
   "cell_type": "raw",
   "id": "4fe3f91a",
   "metadata": {},
   "source": [
    "Information can be passed into functions as arguments.\n",
    "\n",
    "Arguments are specified after the function name, inside the parentheses. You can add as many arguments as you want, just separate them with a comma.\n",
    "\n",
    "The following example has a function with one argument (fname). When the function is called, we pass along a first name, which is used inside the function to print the full name:"
   ]
  },
  {
   "cell_type": "code",
   "execution_count": 3,
   "id": "fec79938",
   "metadata": {},
   "outputs": [
    {
     "name": "stdout",
     "output_type": "stream",
     "text": [
      "good morning milan\n",
      "good morning rohan\n",
      "good morning kanak\n"
     ]
    }
   ],
   "source": [
    "def my_function(fname):\n",
    "    print(\"good morning \" + fname)\n",
    "\n",
    "my_function(\"milan\")\n",
    "my_function(\"rohan\")\n",
    "my_function(\"kanak\")\n"
   ]
  },
  {
   "cell_type": "markdown",
   "id": "85d117d2",
   "metadata": {},
   "source": [
    "#### Number of Arguments"
   ]
  },
  {
   "cell_type": "raw",
   "id": "ee6e31fd",
   "metadata": {},
   "source": [
    "By default, a function must be called with the correct number of arguments. Meaning that if your function expects 2 arguments, you have to call the function with 2 arguments, not more, and not less."
   ]
  },
  {
   "cell_type": "markdown",
   "id": "37f94ff2",
   "metadata": {},
   "source": [
    "`This function expects 2 arguments, and gets 2 arguments:`"
   ]
  },
  {
   "cell_type": "code",
   "execution_count": 4,
   "id": "1d5b0a7d",
   "metadata": {},
   "outputs": [
    {
     "name": "stdout",
     "output_type": "stream",
     "text": [
      "milan good morning\n"
     ]
    }
   ],
   "source": [
    "def my_function(fname, lname):\n",
    "    print(fname + \" \" + lname)\n",
    "\n",
    "my_function(\"milan\", \"good morning\")"
   ]
  },
  {
   "cell_type": "markdown",
   "id": "89c5aa9e",
   "metadata": {},
   "source": [
    "`If you try to call the function with 1 or 3 arguments, you will get an error`"
   ]
  },
  {
   "cell_type": "raw",
   "id": "90011ac0",
   "metadata": {},
   "source": [
    "#This function expects 2 arguments, but gets only 1:\n",
    "\n",
    "def my_function(fname, lname):\n",
    "    print(fname + \" \" + lname)\n",
    "\n",
    "my_function(\"milan\")\n",
    "\n",
    "\n",
    "---------------------------------------------------------------------------\n",
    "TypeError                                 Traceback (most recent call last)\n",
    "<ipython-input-8-f22210ee31f8> in <module>\n",
    "      3     print(fname + \" \" + lname)\n",
    "      4 \n",
    "----> 5 my_function(\"Emil\")\n",
    "\n",
    "TypeError: my_function() missing 1 required positional argument: 'lname"
   ]
  },
  {
   "cell_type": "markdown",
   "id": "438acd14",
   "metadata": {},
   "source": [
    "#### Arbitrary Arguments, *args"
   ]
  },
  {
   "cell_type": "raw",
   "id": "d2d7ddf2",
   "metadata": {},
   "source": [
    "If you do not know how many arguments that will be passed into your function, add a * before the parameter name in the function definition.\n",
    "\n",
    "This way the function will receive a tuple of arguments, and can access the items accordingly:"
   ]
  },
  {
   "cell_type": "code",
   "execution_count": 5,
   "id": "076ee788",
   "metadata": {},
   "outputs": [
    {
     "name": "stdout",
     "output_type": "stream",
     "text": [
      "The youngest child is cd\n",
      "The youngest child is bc\n"
     ]
    }
   ],
   "source": [
    "def my_function(*kids):\n",
    "    print(\"The youngest child is \" + kids[2])\n",
    "\n",
    "my_function(\"ab\", \"bc\", \"cd\")\n",
    "\n",
    "def my_function(*kids):\n",
    "    print(\"The youngest child is \" + kids[1])\n",
    "\n",
    "my_function(\"ab\", \"bc\", \"cd\")"
   ]
  },
  {
   "cell_type": "markdown",
   "id": "88405811",
   "metadata": {},
   "source": [
    "#### Keyword Arguments"
   ]
  },
  {
   "cell_type": "raw",
   "id": "88a78314",
   "metadata": {},
   "source": [
    "You can also send arguments with the key = value syntax.\n",
    "\n",
    "This way the order of the arguments does not matter."
   ]
  },
  {
   "cell_type": "code",
   "execution_count": 6,
   "id": "97517f73",
   "metadata": {},
   "outputs": [
    {
     "name": "stdout",
     "output_type": "stream",
     "text": [
      "The youngest child is cd\n"
     ]
    }
   ],
   "source": [
    "def my_function(child3, child2, child1):\n",
    "    print(\"The youngest child is \" + child3)\n",
    "\n",
    "my_function(child1 = \"ab\", child2 = \"bc\", child3 = \"cd\")"
   ]
  },
  {
   "cell_type": "markdown",
   "id": "4cb6037d",
   "metadata": {},
   "source": [
    "#### Arbitrary Keyword Arguments, **kwargs"
   ]
  },
  {
   "cell_type": "raw",
   "id": "78603658",
   "metadata": {},
   "source": [
    "If you do not know how many keyword arguments that will be passed into your function, add two asterisk: ** before the parameter name in the function definition.\n",
    "\n",
    "This way the function will receive a dictionary of arguments, and can access the items accordingly:"
   ]
  },
  {
   "cell_type": "code",
   "execution_count": 7,
   "id": "bc962141",
   "metadata": {},
   "outputs": [
    {
     "name": "stdout",
     "output_type": "stream",
     "text": [
      "His last name is bc\n"
     ]
    }
   ],
   "source": [
    "#If the number of keyword arguments is unknown, add a double ** before the parameter name:\n",
    "\n",
    "def my_function(**kid):\n",
    "    print(\"His last name is \" + kid[\"lname\"])\n",
    "\n",
    "my_function(fname = \"ab\", lname = \"bc\")"
   ]
  },
  {
   "cell_type": "markdown",
   "id": "2bce285f",
   "metadata": {},
   "source": [
    "#### Default Parameter Value"
   ]
  },
  {
   "cell_type": "raw",
   "id": "86754bf1",
   "metadata": {},
   "source": [
    "The following example shows how to use a default parameter value.\n",
    "\n",
    "If we call the function without argument, it uses the default value:"
   ]
  },
  {
   "cell_type": "code",
   "execution_count": 8,
   "id": "2760d888",
   "metadata": {},
   "outputs": [
    {
     "name": "stdout",
     "output_type": "stream",
     "text": [
      "I am from Sweden\n",
      "I am from India\n",
      "I am from Norway\n",
      "I am from Brazil\n"
     ]
    }
   ],
   "source": [
    "def my_function(country = \"Norway\"):\n",
    "    print(\"I am from \" + country)\n",
    "\n",
    "my_function(\"Sweden\")\n",
    "my_function(\"India\")\n",
    "my_function()\n",
    "my_function(\"Brazil\")"
   ]
  },
  {
   "cell_type": "raw",
   "id": "9d89b4f5",
   "metadata": {},
   "source": [
    "Passing a List as an Argument\n",
    "You can send any data types of argument to a function (string, number, list, dictionary etc.), and it will be treated as the same data type inside the function.\n",
    "\n",
    "E.g. if you send a List as an argument, it will still be a List when it reaches the function:"
   ]
  },
  {
   "cell_type": "code",
   "execution_count": 9,
   "id": "ef9b55ba",
   "metadata": {},
   "outputs": [
    {
     "name": "stdout",
     "output_type": "stream",
     "text": [
      "apple\n",
      "banana\n",
      "cherry\n"
     ]
    }
   ],
   "source": [
    "def my_function(food):\n",
    "    for x in food:\n",
    "        print(x)\n",
    "\n",
    "fruits = [\"apple\", \"banana\", \"cherry\"]\n",
    "\n",
    "my_function(fruits)"
   ]
  },
  {
   "cell_type": "raw",
   "id": "914dd0e6",
   "metadata": {},
   "source": [
    "Return Values\n",
    "To let a function return a value, use the return statement:"
   ]
  },
  {
   "cell_type": "code",
   "execution_count": 10,
   "id": "7fdea0bf",
   "metadata": {},
   "outputs": [
    {
     "name": "stdout",
     "output_type": "stream",
     "text": [
      "15\n",
      "25\n",
      "45\n"
     ]
    }
   ],
   "source": [
    "def my_function(x):\n",
    "    return 5 * x\n",
    "\n",
    "print(my_function(3))\n",
    "print(my_function(5))\n",
    "print(my_function(9))"
   ]
  }
 ],
 "metadata": {
  "kernelspec": {
   "display_name": "Python 3",
   "language": "python",
   "name": "python3"
  },
  "language_info": {
   "codemirror_mode": {
    "name": "ipython",
    "version": 3
   },
   "file_extension": ".py",
   "mimetype": "text/x-python",
   "name": "python",
   "nbconvert_exporter": "python",
   "pygments_lexer": "ipython3",
   "version": "3.8.8"
  }
 },
 "nbformat": 4,
 "nbformat_minor": 5
}
