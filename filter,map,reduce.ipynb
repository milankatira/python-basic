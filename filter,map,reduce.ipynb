{
 "cells": [
  {
   "cell_type": "markdown",
   "id": "bb255451",
   "metadata": {},
   "source": [
    "# filter,map,reduce"
   ]
  },
  {
   "cell_type": "code",
   "execution_count": 1,
   "id": "3d5268e5",
   "metadata": {},
   "outputs": [
    {
     "name": "stdout",
     "output_type": "stream",
     "text": [
      "[8, 2, 4]\n",
      "[8, 2, 4]\n"
     ]
    }
   ],
   "source": [
    "\n",
    "\n",
    "def is_even(n):\n",
    "    return n%2==0\n",
    "\n",
    "\n",
    "\n",
    "nums=[5,8,2,4,9]\n",
    "\n",
    "events= list(filter(is_even,nums))   #here fiter function to apply 1.fiter what you whant and \n",
    "                                     #other is 2.input  which you have to apply it \n",
    "\n",
    "print(events)\n",
    "\n",
    "\n",
    "\n",
    "nums=[5,8,2,4,9]\n",
    "\n",
    "events= list(filter(lambda n:n%2==0,nums))   \n",
    "\n",
    "print(events)"
   ]
  },
  {
   "cell_type": "code",
   "execution_count": 2,
   "id": "d8ab55b5",
   "metadata": {},
   "outputs": [
    {
     "name": "stdout",
     "output_type": "stream",
     "text": [
      "28\n"
     ]
    }
   ],
   "source": [
    "from functools import reduce\n",
    "\n",
    "nums=[5,8,2,4,9]\n",
    "\n",
    "events= list(filter(lambda n:n%2==0,nums))   # [8, 2, 4]\n",
    "\n",
    "double=list (map(lambda n: n*2,events))      #[16,4,8]\n",
    "\n",
    "sum=reduce(lambda a,b : a+b , double)        \n",
    "\n",
    "print(sum)"
   ]
  },
  {
   "cell_type": "markdown",
   "id": "17c6cf01",
   "metadata": {},
   "source": [
    "# iterators and generators"
   ]
  },
  {
   "cell_type": "markdown",
   "id": "4a9b0dbd",
   "metadata": {},
   "source": [
    "iterators "
   ]
  },
  {
   "cell_type": "code",
   "execution_count": 3,
   "id": "aa872053",
   "metadata": {},
   "outputs": [
    {
     "name": "stdout",
     "output_type": "stream",
     "text": [
      "<list_iterator object at 0x000002328CBE15E0>\n",
      "2\n",
      "8\n",
      "7\n"
     ]
    }
   ],
   "source": [
    "nums=[2,8,7,9]\n",
    "\n",
    "it=iter(nums)   #here iter is a inbuilt keyword of python \n",
    "print (it)      # output is  <list_iterator object at 0x0000019737518160>\n",
    "print (it.__next__())   #print the first value 2\n",
    "print (it.__next__())   #print the first value 8\n",
    "\n",
    "print(next(it))"
   ]
  },
  {
   "cell_type": "code",
   "execution_count": 4,
   "id": "ee5cc4fd",
   "metadata": {},
   "outputs": [
    {
     "name": "stdout",
     "output_type": "stream",
     "text": [
      "1\n",
      "2\n",
      "3\n",
      "4\n",
      "5\n",
      "6\n",
      "7\n",
      "8\n",
      "9\n",
      "10\n"
     ]
    }
   ],
   "source": [
    "class topten:\n",
    "    \n",
    "    def __init__(self):\n",
    "        self.num=1\n",
    "        \n",
    "    def __iter__(self):\n",
    "        return self \n",
    "    \n",
    "    def __next__(self):\n",
    "   \n",
    "        \n",
    "        if self.num<=10:\n",
    "            val=self.num\n",
    "            self.num += 1\n",
    "            \n",
    "            return val\n",
    "    \n",
    "        else:\n",
    "            raise StopIteration\n",
    "values=topten()\n",
    "\n",
    "#print (values.__next__())\n",
    "#print (values.__next__())\n",
    "\n",
    "for i in values:\n",
    "    print(i)"
   ]
  },
  {
   "cell_type": "code",
   "execution_count": 5,
   "id": "215cb146",
   "metadata": {},
   "outputs": [
    {
     "name": "stdout",
     "output_type": "stream",
     "text": [
      "5\n",
      "8\n",
      "7\n",
      "9\n"
     ]
    }
   ],
   "source": [
    "#generator\n",
    "\n",
    "def topten():\n",
    "    #return 5    \n",
    "    yield 5   #<generator object topten at 0x0000019737607430>  it will create a itretors \n",
    "    yield 8 \n",
    "    yield 7\n",
    "    yield 9 \n",
    "\n",
    "values=topten()\n",
    "#print(values)  #you cant print value 5 because it yield is create iterators\n",
    "print(values.__next__())\n",
    "print(values.__next__())\n",
    "print(values.__next__())\n",
    "print(values.__next__())"
   ]
  },
  {
   "cell_type": "code",
   "execution_count": 6,
   "id": "a373a6c4",
   "metadata": {},
   "outputs": [
    {
     "name": "stdout",
     "output_type": "stream",
     "text": [
      "1\n",
      "4\n",
      "9\n",
      "16\n",
      "25\n",
      "36\n",
      "49\n",
      "64\n",
      "81\n",
      "100\n"
     ]
    }
   ],
   "source": [
    "def topten():\n",
    "    \n",
    "    n=1\n",
    "    \n",
    "    while n<=10:\n",
    "        sq=n*n\n",
    "        \n",
    "        yield sq \n",
    "        n+=1\n",
    "values=topten()\n",
    "\n",
    "for i in values:\n",
    "    print(i)"
   ]
  },
  {
   "cell_type": "markdown",
   "id": "da377c6c",
   "metadata": {},
   "source": [
    "# arg and kwarg\n"
   ]
  },
  {
   "cell_type": "code",
   "execution_count": null,
   "id": "6d5adcc3",
   "metadata": {},
   "outputs": [],
   "source": [
    "def person(name,*data):\n",
    "    \n",
    "    person(name)\n",
    "    person(data)\n",
    "    \n",
    "person('milan',21,'rajkot',783899803)"
   ]
  },
  {
   "cell_type": "code",
   "execution_count": null,
   "id": "f651fa68",
   "metadata": {},
   "outputs": [],
   "source": []
  }
 ],
 "metadata": {
  "kernelspec": {
   "display_name": "Python 3",
   "language": "python",
   "name": "python3"
  },
  "language_info": {
   "codemirror_mode": {
    "name": "ipython",
    "version": 3
   },
   "file_extension": ".py",
   "mimetype": "text/x-python",
   "name": "python",
   "nbconvert_exporter": "python",
   "pygments_lexer": "ipython3",
   "version": "3.8.8"
  }
 },
 "nbformat": 4,
 "nbformat_minor": 5
}
