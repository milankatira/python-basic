{
 "cells": [
  {
   "cell_type": "markdown",
   "id": "ec60b968",
   "metadata": {},
   "source": [
    "# oops in python"
   ]
  },
  {
   "cell_type": "markdown",
   "id": "552401f9",
   "metadata": {},
   "source": [
    "## class "
   ]
  },
  {
   "cell_type": "code",
   "execution_count": 1,
   "id": "43e44a22",
   "metadata": {},
   "outputs": [
    {
     "name": "stdout",
     "output_type": "stream",
     "text": [
      "<class '__main__.computer'>\n"
     ]
    }
   ],
   "source": [
    "class computer:\n",
    "    def config(self):\n",
    "        #here config is behaviour-method and \n",
    "        #self os a attributes-variables\n",
    "        print(\"i5,16gb,1tb\")\n",
    "   \n",
    "com1=computer()\n",
    "print(type(com1)) # here you can see that com1 is belong to class computer"
   ]
  },
  {
   "cell_type": "code",
   "execution_count": 2,
   "id": "332b8c10",
   "metadata": {},
   "outputs": [
    {
     "name": "stdout",
     "output_type": "stream",
     "text": [
      "<class 'str'>\n"
     ]
    }
   ],
   "source": [
    "a='8'\n",
    "print(type(a)) # a have also class  str but it is inbuilt class and computer is our define class "
   ]
  },
  {
   "cell_type": "code",
   "execution_count": 3,
   "id": "cf2f12f3",
   "metadata": {},
   "outputs": [
    {
     "name": "stdout",
     "output_type": "stream",
     "text": [
      "i5,16gb,1tb\n",
      "i5,16gb,1tb\n",
      "i5,16gb,1tb\n",
      "i5,16gb,1tb\n"
     ]
    }
   ],
   "source": [
    "class computer: #class name computer \n",
    "    def config(self):\n",
    "        #here config is behaviour-method and \n",
    "        #self os a attributes-variables\n",
    "        print(\"i5,16gb,1tb\")\n",
    "   \n",
    "com1=computer() #cam1 have all parameter of class computer \n",
    "com2=computer()\n",
    "\n",
    "computer.config(com1) # to access config we have to call classname-method-attributes \n",
    "computer.config(com2)\n",
    "\n",
    "com1.config()  # here we have to use attributes-method com1=computer()\n",
    "com2.config()\n",
    "\n",
    "\n"
   ]
  },
  {
   "cell_type": "markdown",
   "id": "d6f5912f",
   "metadata": {},
   "source": [
    "##    __init__ method"
   ]
  },
  {
   "cell_type": "code",
   "execution_count": 4,
   "id": "df1d052f",
   "metadata": {},
   "outputs": [
    {
     "name": "stdout",
     "output_type": "stream",
     "text": [
      "init\n",
      "init\n",
      "i5,16gb,1tb\n",
      "i5,16gb,1tb\n"
     ]
    }
   ],
   "source": [
    "class computer():\n",
    "    def __init__(self):   #constructor in python\n",
    "        print(\"init\")\n",
    "    \n",
    "    def config(self):\n",
    "        print(\"i5,16gb,1tb\")\n",
    "   \n",
    "com1=computer()   \n",
    "com2=computer()\n",
    "\n",
    "com1.config()  \n",
    "com2.config() \n",
    "\n",
    "#here first 2 output is a output of init method for both attributes \n",
    " \n",
    "#init method don't need to call\n"
   ]
  },
  {
   "cell_type": "code",
   "execution_count": 5,
   "id": "f39d3f69",
   "metadata": {},
   "outputs": [
    {
     "name": "stdout",
     "output_type": "stream",
     "text": [
      "config is i5 16\n",
      "config is ryzen 3 8\n"
     ]
    }
   ],
   "source": [
    "class computer():\n",
    "    def __init__(self,cpu,ram):\n",
    "        self.cpu=cpu\n",
    "        self.ram=ram\n",
    "\n",
    "    \n",
    "    def config(self):\n",
    "        print(\"config is\",self.cpu,self.ram) #here self is compelsory for fetch our values \n",
    "   \n",
    "com1=computer('i5','16')   #here we have to pass 2 argiment is cpu and ram because self is con1 already passed\n",
    "com2=computer('ryzen 3','8')\n",
    "\n",
    "com1.config()  \n",
    "com2.config() "
   ]
  },
  {
   "cell_type": "markdown",
   "id": "463b4d03",
   "metadata": {},
   "source": [
    "## constructor ,self , object "
   ]
  },
  {
   "cell_type": "code",
   "execution_count": 6,
   "id": "0336befa",
   "metadata": {},
   "outputs": [
    {
     "name": "stdout",
     "output_type": "stream",
     "text": [
      "milan\n",
      "milan\n",
      "2284879128848\n"
     ]
    }
   ],
   "source": [
    "class computer:\n",
    "    def __init__(self):\n",
    "        self.name=\"milan\"\n",
    "        self.age=21\n",
    "        \n",
    "c1=computer()\n",
    "c2=computer()\n",
    "\n",
    "print(c1.name)# HERE value for both c1 nad c2  is same\n",
    "print(c2.name)\n",
    "\n",
    "c2=computer()\n",
    "print(id(c2))#heap memory allocation"
   ]
  },
  {
   "cell_type": "code",
   "execution_count": 7,
   "id": "b564d0f8",
   "metadata": {},
   "outputs": [
    {
     "name": "stdout",
     "output_type": "stream",
     "text": [
      "milan\n",
      "milan\n",
      "katira\n",
      "30\n"
     ]
    }
   ],
   "source": [
    "class computer:\n",
    "    def __init__(self):\n",
    "        self.name=\"milan\"\n",
    "        self.age=21\n",
    "        \n",
    "    def update(self):\n",
    "        self.age=30\n",
    "        \n",
    "c1=computer()\n",
    "c2=computer()\n",
    "\n",
    "print(c1.name)\n",
    "print(c2.name)\n",
    "\n",
    "#here we have to cahnge the value of c1.name \n",
    "c1.name=\"katira\"\n",
    "print(c1.name)\n",
    "\n",
    "c1.update()\n",
    "print(c1.age) #for update age \n",
    "\n",
    "#what is self\n",
    "\n",
    "#here we can see that c1.update is run and our pointer is goes on the def update method \n",
    "#def update is run the new value of age so here self is pointer so we can change value by \n",
    "#passing self we can change value \n",
    "\n"
   ]
  },
  {
   "cell_type": "code",
   "execution_count": 8,
   "id": "c88d5ba8",
   "metadata": {},
   "outputs": [
    {
     "name": "stdout",
     "output_type": "stream",
     "text": [
      "milan\n",
      "milan\n",
      "katira\n",
      "30\n",
      "different\n",
      "different\n"
     ]
    }
   ],
   "source": [
    "class computer:\n",
    "    def __init__(self):\n",
    "        self.name=\"milan\"\n",
    "        self.age=21\n",
    "        \n",
    "    def update(self):\n",
    "        self.age=30\n",
    "        \n",
    "    def compare(self,other):\n",
    "        if self.age==other.age:\n",
    "            return True \n",
    "        else:\n",
    "            return False\n",
    "        \n",
    "c1=computer()\n",
    "c2=computer()\n",
    "\n",
    "print(c1.name)\n",
    "print(c2.name)\n",
    "\n",
    "#here we have to cahnge the value of c1.name \n",
    "c1.name=\"katira\"\n",
    "print(c1.name)\n",
    "\n",
    "c1.update()\n",
    "print(c1.age) #for update age \n",
    "\n",
    "if c1.compare(c2):\n",
    "    print(\"they are same\")  \n",
    "else:\n",
    "    print(\"different\")\n",
    "    \n",
    "if computer.compare(c1,c2):\n",
    "    print(\"they are same\")  \n",
    "else:\n",
    "    print(\"different\")"
   ]
  },
  {
   "cell_type": "markdown",
   "id": "e6748fbb",
   "metadata": {},
   "source": [
    "## types of variables"
   ]
  },
  {
   "cell_type": "raw",
   "id": "77e0f4db",
   "metadata": {},
   "source": [
    "variable is twe types\n",
    "\n",
    "1.instance variable  two types of this variables 1.accessor 2.mutator\n",
    "2.class(static) variable"
   ]
  },
  {
   "cell_type": "code",
   "execution_count": 9,
   "id": "dda76b44",
   "metadata": {},
   "outputs": [
    {
     "name": "stdout",
     "output_type": "stream",
     "text": [
      "BMW 9 4\n",
      "BMW 10 4\n",
      "BMW 9 6\n",
      "BMW 10 6\n"
     ]
    }
   ],
   "source": [
    "class car:\n",
    "     \n",
    "    wheel=4 # this is a class variable  here class variable apply for all object is alawys same for all object\n",
    "    \n",
    "    def __init__(self):    #this is instance variables it is change for all object\n",
    "        self.mil=10\n",
    "        self.com=\"BMW\"\n",
    "        \n",
    "c1=car()\n",
    "c2=car()\n",
    "c1.mil=9\n",
    "\n",
    "print(c1.com,c1.mil,c1.wheel)\n",
    "print(c2.com,c2.mil,c2.wheel)\n",
    "\n",
    "class car:\n",
    "    \n",
    "    wheel=6 # this is a class variable \n",
    "    \n",
    "    def __init__(self):    #this is instance variables it is change for all object\n",
    "        self.mil=10\n",
    "        self.com=\"BMW\"\n",
    "        \n",
    "c1=car()\n",
    "c2=car()\n",
    "c1.mil=9\n",
    "\n",
    "print(c1.com,c1.mil,c1.wheel)\n",
    "print(c2.com,c2.mil,c2.wheel)"
   ]
  },
  {
   "cell_type": "markdown",
   "id": "0ae8f2c7",
   "metadata": {},
   "source": [
    "## types of method "
   ]
  },
  {
   "cell_type": "raw",
   "id": "bde65721",
   "metadata": {},
   "source": [
    "types of methods\n",
    "\n",
    "1.instance method\n",
    "\n",
    "   here 2 types of this method\n",
    "   1.accessor  --only fatched the values \n",
    "   2.mutators  --modified the values\n",
    "   \n",
    "2.class method\n",
    "3.static method"
   ]
  },
  {
   "cell_type": "code",
   "execution_count": 10,
   "id": "3a1bb098",
   "metadata": {},
   "outputs": [
    {
     "name": "stdout",
     "output_type": "stream",
     "text": [
      "43.0\n",
      "56.333333333333336\n",
      "ndh\n",
      "this is student class in abc module\n"
     ]
    }
   ],
   "source": [
    "class students:\n",
    "    \n",
    "    school=\"ndh\"\n",
    "    def __init__(self,m1,m2,m3):\n",
    "        self.m1=m1\n",
    "        self.m2=m2\n",
    "        self.m3=m3\n",
    "        \n",
    "    def avg(self):\n",
    "        return ((self.m1 + self.m2 + self.m3)/3)\n",
    "    \n",
    "    '''\n",
    "    def get_m1(self):   #get method  ---it is a accessors\n",
    "        return self.m1\n",
    "    \n",
    "    def set_m1(self,value):   #set method  ---it is a mutators \n",
    "        return self.m1=value\n",
    "    '''      \n",
    "    \n",
    "    @classmethod  #here working with class must use decoraters\n",
    "    def getschool(cls): #if you are working with class used cls \n",
    "        return cls.school\n",
    "    \n",
    "    @staticmethod  #here we are use static method \n",
    "    def info(): #in static method you don't need to pass anything\n",
    "        print(\"this is student class in abc module\")\n",
    "    \n",
    "s1=students(26,58,45)\n",
    "        \n",
    "s2=students(46,38,85)\n",
    "\n",
    "s1.avg()\n",
    "print(s1.avg())\n",
    "print(s2.avg())\n",
    "\n",
    "print(students.getschool())\n",
    "students.info()"
   ]
  },
  {
   "cell_type": "markdown",
   "id": "4a8d4577",
   "metadata": {},
   "source": [
    "## inner class in python"
   ]
  },
  {
   "cell_type": "code",
   "execution_count": 11,
   "id": "5de07865",
   "metadata": {},
   "outputs": [
    {
     "name": "stdout",
     "output_type": "stream",
     "text": [
      "1 milan\n",
      "1 milan\n"
     ]
    },
    {
     "data": {
      "text/plain": [
       "'hp'"
      ]
     },
     "execution_count": 11,
     "metadata": {},
     "output_type": "execute_result"
    }
   ],
   "source": [
    "class student:\n",
    "    \n",
    "    def __init__(self,name,rollno):\n",
    "        self.name=name\n",
    "        self.rollno=rollno\n",
    "        self.lap=laptop()\n",
    "        \n",
    "    def show(self):\n",
    "        print(self.rollno,self.name)\n",
    "        \n",
    "class laptop:\n",
    "    \n",
    "    def __init__(self):\n",
    "        self.brand=\"hp\"\n",
    "        self.cpu=\"i5\"\n",
    "        self.ram=8\n",
    "        \n",
    "s1=student('milan',1)\n",
    "s2=student('katira',2)\n",
    "\n",
    "print (s1.rollno,s1.name)\n",
    "\n",
    "s1.show()\n",
    "\n",
    "s1.lap.brand\n",
    "\n",
    "\n",
    "#here outer class is student and inner class is laptop\n"
   ]
  },
  {
   "cell_type": "markdown",
   "id": "eb2e2804",
   "metadata": {},
   "source": [
    "## inheritance "
   ]
  },
  {
   "cell_type": "code",
   "execution_count": 12,
   "id": "10c72169",
   "metadata": {},
   "outputs": [
    {
     "name": "stdout",
     "output_type": "stream",
     "text": [
      "feature 1 is working\n",
      "feature 2 is working\n",
      "feature 1 is working\n",
      "feature 2 is working\n",
      "feature 3 is working\n",
      "feature 4 is working\n",
      "feature 1 is working\n",
      "feature 2 is working\n",
      "feature 3 is working\n",
      "feature 4 is working\n",
      "feature 5 is working\n",
      "feature 6 is working\n"
     ]
    }
   ],
   "source": [
    "class a:\n",
    "    \n",
    "    def feature1(self):\n",
    "        print(\"feature 1 is working\")\n",
    "        \n",
    "    def feature2(self):\n",
    "        print(\"feature 2 is working\")    \n",
    "\n",
    "class b(a):  #child class \n",
    "    \n",
    "    def feature3(self):\n",
    "        print(\"feature 3 is working\")\n",
    "        \n",
    "    def feature4(self):\n",
    "        print(\"feature 4 is working\")        \n",
    "\n",
    "class c(b):  #child class \n",
    "    \n",
    "    def feature5(self):\n",
    "        print(\"feature 5 is working\")\n",
    "        \n",
    "    def feature6(self):\n",
    "        print(\"feature 6 is working\")    \n",
    "\n",
    "a1=a()\n",
    "\n",
    "a1.feature1()\n",
    "a1.feature2()\n",
    "\n",
    "b1=b()\n",
    "\n",
    "#feature of parent class a \n",
    "b1.feature1()\n",
    "b1.feature2()\n",
    "\n",
    "#feature of child class b\n",
    "b1.feature3()\n",
    "b1.feature4()\n",
    "\n",
    "#structure of multi inheritance like \n",
    "#a-b-c\n",
    "\n",
    "c1=c()\n",
    "#feature of parent class a \n",
    "c1.feature1()\n",
    "c1.feature2()\n",
    "#feature of parent class b\n",
    "c1.feature3()\n",
    "c1.feature4()\n",
    "#feature of child class c\n",
    "c1.feature5()\n",
    "c1.feature6()"
   ]
  },
  {
   "cell_type": "markdown",
   "id": "8b64ddae",
   "metadata": {},
   "source": [
    "## constructure in inharitance"
   ]
  },
  {
   "cell_type": "code",
   "execution_count": 13,
   "id": "fa1cd3ab",
   "metadata": {},
   "outputs": [],
   "source": [
    "class a:\n",
    "    \n",
    "    def __init__(self):\n",
    "        super().__init__()\n",
    "        print(\"init of a\")\n",
    "        \n",
    "    def feature1(self):\n",
    "        print(\"feature 1 is working\")\n",
    "        \n",
    "    def feature2(self):\n",
    "        print(\"feature 2 is working\")    \n",
    "\n",
    "class b:  #child class \n",
    "    \n",
    "    def __init__(self):\n",
    "        super().__init__()\n",
    "        print(\"init of b\")\n",
    "    \n",
    "    def feature3(self):\n",
    "        print(\"feature 3 is working\")\n",
    "        \n",
    "    def feature4(self):\n",
    "        print(\"feature 4 is working\") \n",
    "\n",
    "class c(a,b):  #child class \n",
    "    \n",
    "    def __init__(self):\n",
    "        super().__init__()\n",
    "        print(\"init of c\")\n",
    "    \n",
    "    def feature5(self):\n",
    "        print(\"feature 5 is working\")\n",
    "        \n",
    "    def feature6(self):\n",
    "        print(\"feature 6 is working\")    \n",
    "        \n",
    "    \n",
    "    a1=c()\n",
    "        \n",
    "        #here if init of b is preset then it is print init of b \n",
    "        # in case not present it will go on class a and print init of a \n",
    "        \n",
    "        #but we need to \n",
    "    "
   ]
  },
  {
   "cell_type": "markdown",
   "id": "ea1d682c",
   "metadata": {},
   "source": [
    "## polymorphism"
   ]
  },
  {
   "cell_type": "raw",
   "id": "a261af4c",
   "metadata": {},
   "source": [
    "there are 3 method\n",
    "\n",
    "1.duck typing\n",
    "2.operator overloading\n",
    "3.method overloading"
   ]
  },
  {
   "cell_type": "code",
   "execution_count": 14,
   "id": "1ee093da",
   "metadata": {},
   "outputs": [
    {
     "name": "stdout",
     "output_type": "stream",
     "text": [
      "compiling\n",
      "running\n",
      "compiling\n",
      "running\n",
      "vs code running\n"
     ]
    }
   ],
   "source": [
    "##---1.duck typing---\n",
    "\n",
    "class pycharm:\n",
    "    def execute(self):\n",
    "        print(\"compiling\")\n",
    "        print(\"running\")\n",
    "\n",
    "class vscode:\n",
    "    def execute(self):\n",
    "        print(\"compiling\")\n",
    "        print(\"running\")\n",
    "        print(\"vs code running\")\n",
    "        \n",
    "class laptop:\n",
    "    def code(self,ide):\n",
    "        ide.execute() \n",
    "        \n",
    "ide=pycharm()\n",
    "        \n",
    "lap1=laptop()\n",
    "lap1.code(ide)\n",
    "\n",
    "ide=vscode()\n",
    "        \n",
    "lap1=laptop()\n",
    "lap1.code(ide)"
   ]
  },
  {
   "cell_type": "code",
   "execution_count": 15,
   "id": "769b5380",
   "metadata": {},
   "outputs": [
    {
     "name": "stdout",
     "output_type": "stream",
     "text": [
      "103\n"
     ]
    }
   ],
   "source": [
    "#---operator overloading---\n",
    "class student:\n",
    "    def __init__(self,m1,m2):\n",
    "        self.m1=m1\n",
    "        self.m2=m2\n",
    "        \n",
    "    def __add__(self,other):\n",
    "        m1=self.m1 + other.m1\n",
    "        m2=self.m2 + other.m2 \n",
    "        s3=student(m1,m2)\n",
    "        return s3\n",
    "    \n",
    "s1=student(45,58)\n",
    "s2=student(58,54)\n",
    "s3=s1+s2\n",
    "print(s3.m1)"
   ]
  },
  {
   "cell_type": "code",
   "execution_count": 16,
   "id": "86551440",
   "metadata": {},
   "outputs": [
    {
     "name": "stdout",
     "output_type": "stream",
     "text": [
      "13\n"
     ]
    }
   ],
   "source": [
    "# ---method overloading---\n",
    "class student:\n",
    "    def __init__(self,m1,m2):\n",
    "        self.m1=m1\n",
    "        self.m2=m2\n",
    "        \n",
    "    def sum(self,a=None,b=None,c=None):\n",
    "        s=0\n",
    "        if a!=None and b!=None and c!=None:\n",
    "            s=a+b+c\n",
    "            \n",
    "        elif a!=None and b!=None:\n",
    "            s=a+b\n",
    "    \n",
    "        else :\n",
    "            s=a\n",
    "        return s\n",
    "    \n",
    "s1=student(54,56)\n",
    "print(s1.sum(5,8))"
   ]
  },
  {
   "cell_type": "code",
   "execution_count": 17,
   "id": "1abad121",
   "metadata": {},
   "outputs": [
    {
     "name": "stdout",
     "output_type": "stream",
     "text": [
      "in b show\n"
     ]
    }
   ],
   "source": [
    " #---method overiding---\n",
    "class a:\n",
    "\n",
    "    def show(self):\n",
    "        print(\"in a show\")\n",
    "        \n",
    "class b(a):\n",
    "    pass \n",
    "\n",
    "    def show(self):\n",
    "        print(\"in b show\")\n",
    "a1=b()\n",
    "a1.show()"
   ]
  },
  {
   "cell_type": "code",
   "execution_count": null,
   "id": "0fda935f",
   "metadata": {},
   "outputs": [],
   "source": []
  }
 ],
 "metadata": {
  "kernelspec": {
   "display_name": "Python 3",
   "language": "python",
   "name": "python3"
  },
  "language_info": {
   "codemirror_mode": {
    "name": "ipython",
    "version": 3
   },
   "file_extension": ".py",
   "mimetype": "text/x-python",
   "name": "python",
   "nbconvert_exporter": "python",
   "pygments_lexer": "ipython3",
   "version": "3.8.8"
  }
 },
 "nbformat": 4,
 "nbformat_minor": 5
}
